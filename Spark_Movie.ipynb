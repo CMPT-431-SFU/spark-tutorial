{
  "nbformat": 4,
  "nbformat_minor": 0,
  "metadata": {
    "colab": {
      "name": "Spark-Movie.ipynb",
      "provenance": []
    },
    "kernelspec": {
      "name": "python3",
      "display_name": "Python 3"
    },
    "accelerator": "GPU"
  },
  "cells": [
    {
      "cell_type": "code",
      "metadata": {
        "id": "JoJnXt9ZGVt8",
        "colab_type": "code",
        "colab": {
          "base_uri": "https://localhost:8080/",
          "height": 202
        },
        "outputId": "22bec5a6-2cc0-4fe0-a732-bd84db24ef10"
      },
      "source": [
        "#Setting up Java, Apache Spark and Findspark\n",
        "!apt-get install openjdk-8-jdk-headless -qq > /dev/null\n",
        "!wget https://www.apache.org/dist/spark/spark-2.4.4/spark-2.4.4-bin-hadoop2.7.tgz\n",
        "!tar -zxf spark-2.4.4-bin-hadoop2.7.tgz\n",
        "!pip install -q findspark"
      ],
      "execution_count": 3,
      "outputs": [
        {
          "output_type": "stream",
          "text": [
            "--2019-11-11 02:57:03--  https://www.apache.org/dist/spark/spark-2.4.4/spark-2.4.4-bin-hadoop2.7.tgz\n",
            "Resolving www.apache.org (www.apache.org)... 95.216.24.32, 40.79.78.1, 2a01:4f9:2a:185f::2\n",
            "Connecting to www.apache.org (www.apache.org)|95.216.24.32|:443... connected.\n",
            "HTTP request sent, awaiting response... 200 OK\n",
            "Length: 230091034 (219M) [application/x-gzip]\n",
            "Saving to: ‘spark-2.4.4-bin-hadoop2.7.tgz’\n",
            "\n",
            "spark-2.4.4-bin-had 100%[===================>] 219.43M  44.1MB/s    in 6.9s    \n",
            "\n",
            "2019-11-11 02:57:10 (31.8 MB/s) - ‘spark-2.4.4-bin-hadoop2.7.tgz’ saved [230091034/230091034]\n",
            "\n"
          ],
          "name": "stdout"
        }
      ]
    },
    {
      "cell_type": "code",
      "metadata": {
        "id": "9Vo7yyTeG76L",
        "colab_type": "code",
        "colab": {}
      },
      "source": [
        "import os\n",
        "os.environ[\"JAVA_HOME\"] = \"/usr/lib/jvm/java-8-openjdk-amd64\"\n",
        "os.environ[\"SPARK_HOME\"] = \"/content/spark-2.4.4-bin-hadoop2.7\""
      ],
      "execution_count": 0,
      "outputs": []
    },
    {
      "cell_type": "code",
      "metadata": {
        "id": "dyyifKs-HAIJ",
        "colab_type": "code",
        "colab": {}
      },
      "source": [
        "import findspark\n",
        "findspark.init(\"/content/spark-2.4.4-bin-hadoop2.7\")\n",
        "from pyspark.sql import SparkSession\n",
        "spark = SparkSession.builder.master(\"local[*]\").getOrCreate()\n",
        "from pyspark import SparkContext\n",
        "sc = SparkContext.getOrCreate()\n"
      ],
      "execution_count": 0,
      "outputs": []
    },
    {
      "cell_type": "code",
      "metadata": {
        "id": "L-CTm82XHKQ6",
        "colab_type": "code",
        "outputId": "f46c9bef-8c88-42f7-ac74-5c9cf00fdf31",
        "colab": {
          "base_uri": "https://localhost:8080/",
          "height": 121
        }
      },
      "source": [
        "import urllib.request\n",
        "import pandas as pd \n",
        "import zipfile\n",
        "import os\n",
        "from google.colab import drive\n",
        "\n",
        "# This will prompt for authorization.\n",
        "drive.mount('/content/drive')\n",
        "\n",
        "import os\n",
        "\n",
        "small=urllib.request.urlretrieve('http://files.grouplens.org/datasets/movielens/ml-latest-small.zip','/content/drive/My Drive/small.zip')\n",
        "big=urllib.request.urlretrieve('http://files.grouplens.org/datasets/movielens/ml-latest.zip','/content/drive/My Drive/big.zip')\n",
        "\n",
        "with zipfile.ZipFile('/content/drive/My Drive/small.zip', \"r\") as z:\n",
        "   z.extractall('/content/drive/My Drive/')\n",
        "    \n",
        "with zipfile.ZipFile('/content/drive/My Drive/big.zip', \"r\") as z:\n",
        "   z.extractall('/content/drive/My Drive/')"
      ],
      "execution_count": 6,
      "outputs": [
        {
          "output_type": "stream",
          "text": [
            "Go to this URL in a browser: https://accounts.google.com/o/oauth2/auth?client_id=947318989803-6bn6qk8qdgf4n4g3pfee6491hc0brc4i.apps.googleusercontent.com&redirect_uri=urn%3Aietf%3Awg%3Aoauth%3A2.0%3Aoob&scope=email%20https%3A%2F%2Fwww.googleapis.com%2Fauth%2Fdocs.test%20https%3A%2F%2Fwww.googleapis.com%2Fauth%2Fdrive%20https%3A%2F%2Fwww.googleapis.com%2Fauth%2Fdrive.photos.readonly%20https%3A%2F%2Fwww.googleapis.com%2Fauth%2Fpeopleapi.readonly&response_type=code\n",
            "\n",
            "Enter your authorization code:\n",
            "··········\n",
            "Mounted at /content/drive\n"
          ],
          "name": "stdout"
        }
      ]
    },
    {
      "cell_type": "code",
      "metadata": {
        "id": "ab_HTx0LHT54",
        "colab_type": "code",
        "outputId": "2ffad8f2-1040-48a5-dc0b-7310b00e3082",
        "colab": {
          "base_uri": "https://localhost:8080/",
          "height": 67
        }
      },
      "source": [
        "movies= spark.read.format(\"csv\").option(\"header\", \"true\").load(\"/content/drive/My Drive/ml-latest/movies.csv\")\n",
        "movies.take(3)\n"
      ],
      "execution_count": 7,
      "outputs": [
        {
          "output_type": "execute_result",
          "data": {
            "text/plain": [
              "[Row(movieId='1', title='Toy Story (1995)', genres='Adventure|Animation|Children|Comedy|Fantasy'),\n",
              " Row(movieId='2', title='Jumanji (1995)', genres='Adventure|Children|Fantasy'),\n",
              " Row(movieId='3', title='Grumpier Old Men (1995)', genres='Comedy|Romance')]"
            ]
          },
          "metadata": {
            "tags": []
          },
          "execution_count": 7
        }
      ]
    },
    {
      "cell_type": "code",
      "metadata": {
        "id": "y63KM5gtvSVF",
        "colab_type": "code",
        "outputId": "f843ada9-0130-44ae-96e3-67b0f2ec925e",
        "colab": {
          "base_uri": "https://localhost:8080/",
          "height": 67
        }
      },
      "source": [
        "ratings= spark.read.format(\"csv\").option(\"header\", \"true\").load(\"/content/drive/My Drive/ml-latest/ratings.csv\")\n",
        "ratings.take(3)   \n",
        "\n"
      ],
      "execution_count": 8,
      "outputs": [
        {
          "output_type": "execute_result",
          "data": {
            "text/plain": [
              "[Row(userId='1', movieId='307', rating='3.5', timestamp='1256677221'),\n",
              " Row(userId='1', movieId='481', rating='3.5', timestamp='1256677456'),\n",
              " Row(userId='1', movieId='1091', rating='1.5', timestamp='1256677471')]"
            ]
          },
          "metadata": {
            "tags": []
          },
          "execution_count": 8
        }
      ]
    },
    {
      "cell_type": "code",
      "metadata": {
        "id": "pnnYRAjMv7Ty",
        "colab_type": "code",
        "outputId": "6f17909e-f9d0-4293-9fc6-7b9ff89cb4c6",
        "colab": {
          "base_uri": "https://localhost:8080/",
          "height": 121
        }
      },
      "source": [
        "mergedDF = ratings.join(movies, movies.movieId == ratings.movieId,how='left') # Could also use  pd.merge(ratings,movies,on=['movieId'],how='left')\n",
        "mergedDF.head(5)"
      ],
      "execution_count": 9,
      "outputs": [
        {
          "output_type": "execute_result",
          "data": {
            "text/plain": [
              "[Row(userId='1', movieId='307', rating='3.5', timestamp='1256677221', movieId='307', title='Three Colors: Blue (Trois couleurs: Bleu) (1993)', genres='Drama'),\n",
              " Row(userId='1', movieId='481', rating='3.5', timestamp='1256677456', movieId='481', title='Kalifornia (1993)', genres='Drama|Thriller'),\n",
              " Row(userId='1', movieId='1091', rating='1.5', timestamp='1256677471', movieId='1091', title=\"Weekend at Bernie's (1989)\", genres='Comedy'),\n",
              " Row(userId='1', movieId='1257', rating='4.5', timestamp='1256677460', movieId='1257', title='Better Off Dead... (1985)', genres='Comedy|Romance'),\n",
              " Row(userId='1', movieId='1449', rating='4.5', timestamp='1256677264', movieId='1449', title='Waiting for Guffman (1996)', genres='Comedy')]"
            ]
          },
          "metadata": {
            "tags": []
          },
          "execution_count": 9
        }
      ]
    },
    {
      "cell_type": "code",
      "metadata": {
        "id": "nWwMiVFCxyJu",
        "colab_type": "code",
        "outputId": "9a1dc7d3-8235-405a-a878-989cce0eebcf",
        "colab": {
          "base_uri": "https://localhost:8080/",
          "height": 34
        }
      },
      "source": [
        "mergedDF.count()"
      ],
      "execution_count": 10,
      "outputs": [
        {
          "output_type": "execute_result",
          "data": {
            "text/plain": [
              "27753444"
            ]
          },
          "metadata": {
            "tags": []
          },
          "execution_count": 10
        }
      ]
    },
    {
      "cell_type": "code",
      "metadata": {
        "id": "dn2oSt8wIfca",
        "colab_type": "code",
        "outputId": "cc1e4a4f-a35b-46be-a0fb-11f4615d8d7e",
        "colab": {
          "base_uri": "https://localhost:8080/",
          "height": 34
        }
      },
      "source": [
        "temp=mergedDF.rdd\n",
        "genres=temp.map(lambda tokens: (tokens[6])).cache()\n",
        "genres.take(3)\n"
      ],
      "execution_count": 11,
      "outputs": [
        {
          "output_type": "execute_result",
          "data": {
            "text/plain": [
              "['Drama', 'Drama|Thriller', 'Comedy']"
            ]
          },
          "metadata": {
            "tags": []
          },
          "execution_count": 11
        }
      ]
    },
    {
      "cell_type": "code",
      "metadata": {
        "id": "jhEO6a6wJjkR",
        "colab_type": "code",
        "colab": {}
      },
      "source": [
        "WordsCount=genres.flatMap(lambda line: line.split(\"|\")).map(lambda word: (word, 1))\n",
        "WordsCount.count()"
      ],
      "execution_count": 0,
      "outputs": []
    },
    {
      "cell_type": "code",
      "metadata": {
        "id": "ZblEwl2HJsqC",
        "colab_type": "code",
        "colab": {}
      },
      "source": [
        "DistinctWordsCount=WordsCount.reduceByKey(lambda a,b: a+b)\n",
        "DistinctWordsCount.count()"
      ],
      "execution_count": 0,
      "outputs": []
    },
    {
      "cell_type": "code",
      "metadata": {
        "id": "K1hDYgZDJy55",
        "colab_type": "code",
        "colab": {}
      },
      "source": [
        "SortedWordsCount=DistinctWordsCount.map(lambda a: (a[1], a[0])).sortByKey()\n",
        "#print most frequent 20 words\n",
        "SortedWordsCount.top(20)\n"
      ],
      "execution_count": 0,
      "outputs": []
    },
    {
      "cell_type": "code",
      "metadata": {
        "id": "ZYzlHKGzBkJq",
        "colab_type": "code",
        "colab": {}
      },
      "source": [
        "SortedWordsCount.collect()\n",
        "Son=SortedWordsCount.toDF(['Frequency', 'Genre']).toPandas()\n",
        "Son2=Son.nlargest(20, 'Frequency', keep='first')\n",
        "Son2.head()"
      ],
      "execution_count": 0,
      "outputs": []
    },
    {
      "cell_type": "code",
      "metadata": {
        "id": "ePq-mrj6BuMx",
        "colab_type": "code",
        "colab": {}
      },
      "source": [
        "import matplotlib.pyplot as plt\n",
        "import pandas as pd\n",
        "Son2.plot(kind='bar',x='Genre', y='Frequency',figsize= (18, 6) )\n",
        "plt.show()"
      ],
      "execution_count": 0,
      "outputs": []
    }
  ]
}