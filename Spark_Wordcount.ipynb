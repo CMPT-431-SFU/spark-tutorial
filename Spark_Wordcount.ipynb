{
  "nbformat": 4,
  "nbformat_minor": 0,
  "metadata": {
    "colab": {
      "name": "Spark-Wordcount.ipynb",
      "provenance": []
    },
    "kernelspec": {
      "name": "python3",
      "display_name": "Python 3"
    }
  },
  "cells": [
    {
      "cell_type": "code",
      "metadata": {
        "id": "UlBnUJXjFZNh",
        "colab_type": "code",
        "outputId": "9a513427-bd3f-4f45-ba85-7f5c0ab3988b",
        "colab": {
          "base_uri": "https://localhost:8080/",
          "height": 202
        }
      },
      "source": [
        "#Setting up Java, Apache Spark and Findspark\n",
        "!apt-get install openjdk-8-jdk-headless -qq > /dev/null\n",
        "!wget https://www.apache.org/dist/spark/spark-2.4.4/spark-2.4.4-bin-hadoop2.7.tgz\n",
        "!tar -zxf spark-2.4.4-bin-hadoop2.7.tgz\n",
        "!pip install -q findspark"
      ],
      "execution_count": 4,
      "outputs": [
        {
          "output_type": "stream",
          "text": [
            "--2019-11-11 01:45:23--  https://www.apache.org/dist/spark/spark-2.4.4/spark-2.4.4-bin-hadoop2.7.tgz\n",
            "Resolving www.apache.org (www.apache.org)... 40.79.78.1, 95.216.24.32, 2a01:4f9:2a:185f::2\n",
            "Connecting to www.apache.org (www.apache.org)|40.79.78.1|:443... connected.\n",
            "HTTP request sent, awaiting response... 200 OK\n",
            "Length: 230091034 (219M) [application/x-gzip]\n",
            "Saving to: ‘spark-2.4.4-bin-hadoop2.7.tgz’\n",
            "\n",
            "spark-2.4.4-bin-had 100%[===================>] 219.43M  14.8MB/s    in 17s     \n",
            "\n",
            "2019-11-11 01:45:45 (13.2 MB/s) - ‘spark-2.4.4-bin-hadoop2.7.tgz’ saved [230091034/230091034]\n",
            "\n"
          ],
          "name": "stdout"
        }
      ]
    },
    {
      "cell_type": "code",
      "metadata": {
        "id": "SbLnKHy5FnUX",
        "colab_type": "code",
        "colab": {}
      },
      "source": [
        "#Setting Up Environment Variables\n",
        "import os\n",
        "os.environ[\"JAVA_HOME\"] = \"/usr/lib/jvm/java-8-openjdk-amd64\"\n",
        "os.environ[\"SPARK_HOME\"] = \"/content/spark-2.4.4-bin-hadoop2.7\""
      ],
      "execution_count": 0,
      "outputs": []
    },
    {
      "cell_type": "code",
      "metadata": {
        "id": "gpw0U0V7GVxS",
        "colab_type": "code",
        "colab": {}
      },
      "source": [
        "#Start SparkSession\n",
        "import findspark\n",
        "findspark.init(os.environ[\"SPARK_HOME\"])\n",
        "from pyspark.sql import SparkSession\n",
        "spark = SparkSession.builder.master(\"local[*]\").getOrCreate()\n"
      ],
      "execution_count": 0,
      "outputs": []
    },
    {
      "cell_type": "code",
      "metadata": {
        "id": "lSNAYYULGlOA",
        "colab_type": "code",
        "colab": {}
      },
      "source": [
        "#Crete Sparkcontext to examine Text File\n",
        "from pyspark import SparkContext\n",
        "sc = SparkContext.getOrCreate()"
      ],
      "execution_count": 0,
      "outputs": []
    },
    {
      "cell_type": "code",
      "metadata": {
        "id": "Jc57S1HYHAFg",
        "colab_type": "code",
        "outputId": "6ee4c79a-c9c6-43cb-d27c-2ce5c0706271",
        "colab": {
          "base_uri": "https://localhost:8080/",
          "height": 121
        }
      },
      "source": [
        "#Start colab in order to acess drive storage\n",
        "from google.colab import drive\n",
        "\n",
        "# This will prompt for authorization.\n",
        "drive.mount('/content/drive')\n",
        "\n",
        "import os"
      ],
      "execution_count": 8,
      "outputs": [
        {
          "output_type": "stream",
          "text": [
            "Go to this URL in a browser: https://accounts.google.com/o/oauth2/auth?client_id=947318989803-6bn6qk8qdgf4n4g3pfee6491hc0brc4i.apps.googleusercontent.com&redirect_uri=urn%3Aietf%3Awg%3Aoauth%3A2.0%3Aoob&scope=email%20https%3A%2F%2Fwww.googleapis.com%2Fauth%2Fdocs.test%20https%3A%2F%2Fwww.googleapis.com%2Fauth%2Fdrive%20https%3A%2F%2Fwww.googleapis.com%2Fauth%2Fdrive.photos.readonly%20https%3A%2F%2Fwww.googleapis.com%2Fauth%2Fpeopleapi.readonly&response_type=code\n",
            "\n",
            "Enter your authorization code:\n",
            "··········\n",
            "Mounted at /content/drive\n"
          ],
          "name": "stdout"
        }
      ]
    },
    {
      "cell_type": "code",
      "metadata": {
        "id": "m_6xqGf0HPX5",
        "colab_type": "code",
        "colab": {}
      },
      "source": [
        "#Download Shakespeare File into Drive\n",
        "import urllib.request\n",
        "shkspr=urllib.request.urlretrieve('https://ocw.mit.edu/ans7870/6/6.006/s08/lecturenotes/files/t8.shakespeare.txt','/content/drive/My Drive/shakespeare.txt')"
      ],
      "execution_count": 0,
      "outputs": []
    },
    {
      "cell_type": "code",
      "metadata": {
        "id": "rbnr5XwGH3TF",
        "colab_type": "code",
        "outputId": "e03094a7-035f-4009-8076-f49e91cbc6c2",
        "colab": {
          "base_uri": "https://localhost:8080/",
          "height": 1000
        }
      },
      "source": [
        "#Check Shakespeare File is in Drive\n",
        "!ls '/content/drive/My Drive'\n"
      ],
      "execution_count": 10,
      "outputs": [
        {
          "output_type": "stream",
          "text": [
            " 06665020.pdf\n",
            "'11362 client sign Docs.pdf'\n",
            " 2014_faculty_award_recipients.pdf\n",
            " 431-logs\n",
            " 5_freq.pdf\n",
            "'Accelerating MySQL.gslides'\n",
            "'Arch 2030 Breakout Session report.pptx'\n",
            "'ARM Research Summit - UTAustin.key'\n",
            " Arrvindh_SalaryReview2012-2014.pdf\n",
            "'Arrvindh Shriraman.pdf'\n",
            " asplos-2015\n",
            " ASPLOS-2015-FORM.gform\n",
            " ASPLOS2015_Sleepcycle.zip\n",
            " asplos-2015.tar.bz2\n",
            " atc15-paper185.pdf\n",
            " BankProof2.pdf\n",
            " BookOR.pdf\n",
            "'Chains Rebuttal.gdoc'\n",
            " CMPT300\n",
            " CMPT300-100.gsheet\n",
            "'CMPT 300 A100#51-rawdata.csv'\n",
            "'CMPT 300 B200#-rawdata.csv'\n",
            "'CMPT 885 Final Project'\n",
            "'Coherence HPCA19 Rebuttal .docx'\n",
            " COHESA\n",
            "'Colab Notebooks'\n",
            " CoolCaches-Report3.pdf\n",
            "'Copy of IC-Google-Spreadsheet-Retirement-Savings-Calculator-Template.gsheet'\n",
            " crd-application-bullets.docx.docx\n",
            " CS982\n",
            " cumulative.xlsx\n",
            " EE-Example-of-clustered-line-cha.xlsx.gsheet\n",
            " Expense_Report_ID_0000200053.pdf\n",
            " Figure2.pdf\n",
            " Figure6.pdf\n",
            "'Final Interview List - to FSC Jan 12-17 (2).xlsx'\n",
            "'Final Interview List - to FSC Jan 12-17.xlsx'\n",
            "'Final Report SRC .gdoc'\n",
            "'gem5-gpu Status.xlsx'\n",
            " Gmail\n",
            "'Gmail Attachments'\n",
            "'Grades Deadlines.xlsx'\n",
            " grants.pdf\n",
            " hardware.tar.gz\n",
            " hash_table_rslt.xlsx\n",
            " HPCA2017\n",
            " IDCard_Mobile.PNG\n",
            " Insync\n",
            "'Intel FPGA Proposal 2017 v2.0.gdoc'\n",
            "'Invitation Letter (Arrvindh Shriraman).PDF'\n",
            "'Itinerary - Rajesh Vijayaraghavan visit to UBC.docx'\n",
            "'Leveraging Approximation for Speculatively Jumping between Program States and Triggering Parallelization.docx'\n",
            "'Leveraging Approximation for Speculatively Jumping between Program States and Triggering Parallelization.gdoc'\n",
            " m119_service_manual.pdf\n",
            "'Mar 17 Pagerank & Replication vs Locality.pptx'\n",
            "'Measuring Packet Delay through the kernel (2).docx'\n",
            "'Measuring Packet Delay through the kernel.docx'\n",
            " MICRO-50.pdf\n",
            "'MICRO Rebuttal.gdoc'\n",
            " Milestones.docx\n",
            " mitacs_application.2.1.NV.gdoc\n",
            " Music\n",
            "'NACHOS Rebuttal.gdoc'\n",
            "'Negin Firouzian CV.pdf'\n",
            " new_avg_ilp.csv\n",
            " new_avg_ilp.csv.xlsx\n",
            " note.docx\n",
            "'NOW Poster.pptx'\n",
            " onur-740-fall13-module2.5-speculation.pdf\n",
            " --options\n",
            " Paperpile\n",
            " Papers\n",
            " Papers3-PDF\n",
            "'Paper Summary.docx'\n",
            " parlensort.pdf\n",
            "'Partially-Shared Address Space (Hyesoon Kim and Arrvindh Shriraman).docx'\n",
            " Performance.csv\n",
            " Performance.gsheet\n",
            " Peruse\n",
            " playground\n",
            " poster\n",
            " Presentations.zip\n",
            "'Pros and cons.gsheet'\n",
            " Rajesh.docx\n",
            " readinglist.docx\n",
            " references.bib\n",
            "'RELATIONSHIP TO OTHER RESEARCH SUPPORT.docx'\n",
            "'Resume (1).gdoc'\n",
            " Resume.gdoc\n",
            "'Retirement Withdrawal Calculator.gsheet'\n",
            " Salisbury\n",
            "'Schedule (1).gsheet'\n",
            "'Schedule (2).gsheet'\n",
            " Schedule.gsheet\n",
            "'SES_SFU Project.docx'\n",
            "'SFU CS 431 SFU_ ID<--->Github_ID.gform'\n",
            " shakespeare.txt\n",
            " SKMBT_C22014102814250.pdf\n",
            "'SRC CoolCache.gdoc'\n",
            " Strategic2013\n",
            "'Summer 2018.gsheet'\n",
            "'Temporal Coherence (Top Picks).docx'\n",
            "'Tennis cost.gsheet'\n",
            " Tickets.pdf\n",
            "'Untitled document.gdoc'\n",
            "'Untitled spreadsheet.gsheet'\n"
          ],
          "name": "stdout"
        }
      ]
    },
    {
      "cell_type": "code",
      "metadata": {
        "id": "q1rcvkTrJFh3",
        "colab_type": "code",
        "colab": {}
      },
      "source": [
        "#Read Shakespeare File\n",
        "Words=sc.textFile(\"/content/drive/My Drive/shakespeare.txt\")"
      ],
      "execution_count": 0,
      "outputs": []
    },
    {
      "cell_type": "code",
      "metadata": {
        "id": "Ab-s4wEkJT1V",
        "colab_type": "code",
        "outputId": "6417e73e-de95-4072-9465-8710559c539c",
        "colab": {
          "base_uri": "https://localhost:8080/",
          "height": 34
        }
      },
      "source": [
        "#Split the file into words using space and prepare for word counting. There are 1418390 words in the file\n",
        "WordsCount=Words.flatMap(lambda line: line.split(\" \")).map(lambda word: (word, 1))\n",
        "WordsCount.count()"
      ],
      "execution_count": 12,
      "outputs": [
        {
          "output_type": "execute_result",
          "data": {
            "text/plain": [
              "1418390"
            ]
          },
          "metadata": {
            "tags": []
          },
          "execution_count": 12
        }
      ]
    },
    {
      "cell_type": "code",
      "metadata": {
        "id": "wR4YZH-9Jjwj",
        "colab_type": "code",
        "outputId": "17b0aaa8-7600-4495-d5c4-07f4736a52e6",
        "colab": {
          "base_uri": "https://localhost:8080/",
          "height": 34
        }
      },
      "source": [
        "#Count the number of each word. Ao there are 67506 distinct words.\n",
        "DistinctWordsCount=WordsCount.reduceByKey(lambda a,b: a+b)\n",
        "DistinctWordsCount.count()"
      ],
      "execution_count": 13,
      "outputs": [
        {
          "output_type": "execute_result",
          "data": {
            "text/plain": [
              "67506"
            ]
          },
          "metadata": {
            "tags": []
          },
          "execution_count": 13
        }
      ]
    },
    {
      "cell_type": "code",
      "metadata": {
        "id": "cqIchttAL0i5",
        "colab_type": "code",
        "outputId": "55509b3e-2c52-4ddf-cc8d-e047711e8518",
        "colab": {
          "base_uri": "https://localhost:8080/",
          "height": 353
        }
      },
      "source": [
        "#Sort by the second column(a[1]) which is frequency.\n",
        "SortedWordsCount=DistinctWordsCount.map(lambda a: (a[1], a[0])).sortByKey()\n",
        "#print most frequent 20 words\n",
        "SortedWordsCount.top(20)"
      ],
      "execution_count": 14,
      "outputs": [
        {
          "output_type": "execute_result",
          "data": {
            "text/plain": [
              "[(517065, ''),\n",
              " (23242, 'the'),\n",
              " (19540, 'I'),\n",
              " (18297, 'and'),\n",
              " (15623, 'to'),\n",
              " (15544, 'of'),\n",
              " (12532, 'a'),\n",
              " (10824, 'my'),\n",
              " (9576, 'in'),\n",
              " (9081, 'you'),\n",
              " (7851, 'is'),\n",
              " (7531, 'that'),\n",
              " (7068, 'And'),\n",
              " (6948, 'not'),\n",
              " (6722, 'with'),\n",
              " (6218, 'his'),\n",
              " (6009, 'your'),\n",
              " (6002, 'be'),\n",
              " (5616, 'for'),\n",
              " (5236, 'have')]"
            ]
          },
          "metadata": {
            "tags": []
          },
          "execution_count": 14
        }
      ]
    },
    {
      "cell_type": "code",
      "metadata": {
        "id": "P77m-UzOQCGp",
        "colab_type": "code",
        "outputId": "e277fd89-d16d-4d0b-bc8c-4629059ba64e",
        "colab": {
          "base_uri": "https://localhost:8080/",
          "height": 353
        }
      },
      "source": [
        "#number of words=1418390-(517065, '')=901325\n",
        "Sorted_final=SortedWordsCount.map(lambda a: (a[1], a[0]))\n",
        "Sorted_final.top(20)"
      ],
      "execution_count": 15,
      "outputs": [
        {
          "output_type": "execute_result",
          "data": {
            "text/plain": [
              "[('}', 2),\n",
              " (\"zwagger'd\", 1),\n",
              " ('zounds,', 1),\n",
              " ('zounds!', 1),\n",
              " ('zone,', 1),\n",
              " ('zodiacs', 1),\n",
              " ('zodiac', 1),\n",
              " ('zo', 1),\n",
              " ('zir.', 1),\n",
              " ('zir,', 1),\n",
              " ('zip', 1),\n",
              " ('zephyrs', 1),\n",
              " ('zenith', 1),\n",
              " ('zed!', 1),\n",
              " ('zeals,', 1),\n",
              " ('zealous', 6),\n",
              " ('zeal.', 4),\n",
              " ('zeal,', 7),\n",
              " ('zeal!', 1),\n",
              " ('zeal', 20)]"
            ]
          },
          "metadata": {
            "tags": []
          },
          "execution_count": 15
        }
      ]
    }
  ]
}